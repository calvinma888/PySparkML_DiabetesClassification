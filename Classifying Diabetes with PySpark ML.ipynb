{
 "cells": [
  {
   "cell_type": "markdown",
   "metadata": {},
   "source": [
    "# Classifying Diabetes with PySpark ML"
   ]
  },
  {
   "cell_type": "markdown",
   "metadata": {},
   "source": [
    "### Yu chien (Calvin) Ma"
   ]
  },
  {
   "cell_type": "markdown",
   "metadata": {
    "colab_type": "text",
    "id": "Snq4iq_JOB4T"
   },
   "source": [
    "## Installing Dependencies & Run Spark Session"
   ]
  },
  {
   "cell_type": "code",
   "execution_count": 3,
   "metadata": {
    "colab": {},
    "colab_type": "code",
    "id": "NpCRBcqtN5lH"
   },
   "outputs": [
    {
     "data": {
      "text/plain": [
       "'C:\\\\Users\\\\calvi\\\\anaconda3\\\\lib\\\\site-packages\\\\pyspark'"
      ]
     },
     "execution_count": 3,
     "metadata": {},
     "output_type": "execute_result"
    }
   ],
   "source": [
    "#install pyspark\n",
    "import findspark\n",
    "findspark.init()\n",
    "findspark.find()"
   ]
  },
  {
   "cell_type": "code",
   "execution_count": 4,
   "metadata": {
    "colab": {},
    "colab_type": "code",
    "id": "GNZoOuDqOdxX"
   },
   "outputs": [],
   "source": [
    "#create a sparksession\n",
    "from pyspark.sql import SparkSession\n",
    "\n",
    "spark = SparkSession.builder \\\n",
    ".appName('spark') \\\n",
    ".master('local[*]') \\\n",
    ".config('spark.sql.execution.arrow.pysupark.enabled', True) \\\n",
    ".config('spark.sql.session.timeZone', 'UTC') \\\n",
    ".config('spark.driver.memory','16G') \\\n",
    ".config('spark.ui.showConsoleProgress', True) \\\n",
    ".config('spark.sql.repl.eagerEval.enabled', True) \\\n",
    ".getOrCreate()"
   ]
  },
  {
   "cell_type": "markdown",
   "metadata": {
    "colab_type": "text",
    "id": "5sG3MLXlOews"
   },
   "source": [
    "## Cloning and exploring the dataset"
   ]
  },
  {
   "cell_type": "code",
   "execution_count": 5,
   "metadata": {
    "colab": {},
    "colab_type": "code",
    "id": "-Uh5H7_KOoSL"
   },
   "outputs": [
    {
     "name": "stderr",
     "output_type": "stream",
     "text": [
      "Cloning into 'diabetes_dataset'...\n"
     ]
    }
   ],
   "source": [
    "#clone the diabetes dataset from the github repository\n",
    "! git clone https://github.com/calvinma888/PySparkML_DiabetesClassification.git"
   ]
  },
  {
   "cell_type": "code",
   "execution_count": 6,
   "metadata": {
    "colab": {},
    "colab_type": "code",
    "id": "VcqwJRxVOutr"
   },
   "outputs": [],
   "source": [
    "#check if the dataset exists\n",
    "path = r\"C:\\Users\\calvi\\Documents\\Portfolio Projects\\diabetes_dataset\\diabetes.csv\"\n",
    "    "
   ]
  },
  {
   "cell_type": "code",
   "execution_count": 7,
   "metadata": {
    "colab": {},
    "colab_type": "code",
    "id": "ST1rFFOlOu8s"
   },
   "outputs": [],
   "source": [
    "#create spark dataframe\n",
    "df = spark.read.csv(path, header=True, inferSchema= True)"
   ]
  },
  {
   "cell_type": "code",
   "execution_count": 8,
   "metadata": {
    "colab": {},
    "colab_type": "code",
    "id": "IiJm-pmROvKd"
   },
   "outputs": [
    {
     "name": "stdout",
     "output_type": "stream",
     "text": [
      "+-----------+-------+-------------+-------------+-------+----+------------------------+---+-------+\n",
      "|Pregnancies|Glucose|BloodPressure|SkinThickness|Insulin| BMI|DiabetesPedigreeFunction|Age|Outcome|\n",
      "+-----------+-------+-------------+-------------+-------+----+------------------------+---+-------+\n",
      "|          2|    138|           62|           35|      0|33.6|                   0.127| 47|      1|\n",
      "|          0|     84|           82|           31|    125|38.2|                   0.233| 23|      0|\n",
      "|          0|    145|            0|            0|      0|44.2|                    0.63| 31|      1|\n",
      "|          0|    135|           68|           42|    250|42.3|                   0.365| 24|      1|\n",
      "|          1|    139|           62|           41|    480|40.7|                   0.536| 21|      0|\n",
      "|          0|    173|           78|           32|    265|46.5|                   1.159| 58|      0|\n",
      "|          4|     99|           72|           17|      0|25.6|                   0.294| 28|      0|\n",
      "|          8|    194|           80|            0|      0|26.1|                   0.551| 67|      0|\n",
      "|          2|     83|           65|           28|     66|36.8|                   0.629| 24|      0|\n",
      "|          2|     89|           90|           30|      0|33.5|                   0.292| 42|      0|\n",
      "+-----------+-------+-------------+-------------+-------+----+------------------------+---+-------+\n",
      "only showing top 10 rows\n",
      "\n"
     ]
    }
   ],
   "source": [
    "#display the dataframe\n",
    "df.show(10)"
   ]
  },
  {
   "cell_type": "code",
   "execution_count": 9,
   "metadata": {
    "colab": {},
    "colab_type": "code",
    "id": "Ulqkuz8aOvV6"
   },
   "outputs": [
    {
     "name": "stdout",
     "output_type": "stream",
     "text": [
      "root\n",
      " |-- Pregnancies: integer (nullable = true)\n",
      " |-- Glucose: integer (nullable = true)\n",
      " |-- BloodPressure: integer (nullable = true)\n",
      " |-- SkinThickness: integer (nullable = true)\n",
      " |-- Insulin: integer (nullable = true)\n",
      " |-- BMI: double (nullable = true)\n",
      " |-- DiabetesPedigreeFunction: double (nullable = true)\n",
      " |-- Age: integer (nullable = true)\n",
      " |-- Outcome: integer (nullable = true)\n",
      "\n"
     ]
    }
   ],
   "source": [
    "#print the schema\n",
    "df.printSchema()"
   ]
  },
  {
   "cell_type": "code",
   "execution_count": 11,
   "metadata": {
    "colab": {},
    "colab_type": "code",
    "id": "kpZlF2S2Ovgw"
   },
   "outputs": [
    {
     "name": "stdout",
     "output_type": "stream",
     "text": [
      "('Rows:', 2000, 'Columns', 9)\n"
     ]
    }
   ],
   "source": [
    "#print the number of rows and columns\n",
    "print((\"Rows:\", df.count(), \"Columns\", len(df.columns)))"
   ]
  },
  {
   "cell_type": "code",
   "execution_count": 12,
   "metadata": {},
   "outputs": [
    {
     "name": "stdout",
     "output_type": "stream",
     "text": [
      "+-------+-----+\n",
      "|Outcome|count|\n",
      "+-------+-----+\n",
      "|      1|  684|\n",
      "|      0| 1316|\n",
      "+-------+-----+\n",
      "\n"
     ]
    }
   ],
   "source": [
    "#count the total number of diabetic and non-diabetic class\n",
    "df.groupBy(\"Outcome\").count().show()"
   ]
  },
  {
   "cell_type": "code",
   "execution_count": 13,
   "metadata": {
    "colab": {},
    "colab_type": "code",
    "id": "NewCNZEMOvtM"
   },
   "outputs": [
    {
     "data": {
      "text/html": [
       "<table border='1'>\n",
       "<tr><th>summary</th><th>Pregnancies</th><th>Glucose</th><th>BloodPressure</th><th>SkinThickness</th><th>Insulin</th><th>BMI</th><th>DiabetesPedigreeFunction</th><th>Age</th><th>Outcome</th></tr>\n",
       "<tr><td>count</td><td>2000</td><td>2000</td><td>2000</td><td>2000</td><td>2000</td><td>2000</td><td>2000</td><td>2000</td><td>2000</td></tr>\n",
       "<tr><td>mean</td><td>3.7035</td><td>121.1825</td><td>69.1455</td><td>20.935</td><td>80.254</td><td>32.192999999999984</td><td>0.47092999999999974</td><td>33.0905</td><td>0.342</td></tr>\n",
       "<tr><td>stddev</td><td>3.306063032730656</td><td>32.068635649902916</td><td>19.188314815604098</td><td>16.10324290992682</td><td>111.1805335457595</td><td>8.149900701279762</td><td>0.3235525586811429</td><td>11.786423106049496</td><td>0.4744982342297426</td></tr>\n",
       "<tr><td>min</td><td>0</td><td>0</td><td>0</td><td>0</td><td>0</td><td>0.0</td><td>0.078</td><td>21</td><td>0</td></tr>\n",
       "<tr><td>max</td><td>17</td><td>199</td><td>122</td><td>110</td><td>744</td><td>80.6</td><td>2.42</td><td>81</td><td>1</td></tr>\n",
       "</table>\n"
      ],
      "text/plain": [
       "+-------+-----------------+------------------+------------------+-----------------+-----------------+------------------+------------------------+------------------+------------------+\n",
       "|summary|      Pregnancies|           Glucose|     BloodPressure|    SkinThickness|          Insulin|               BMI|DiabetesPedigreeFunction|               Age|           Outcome|\n",
       "+-------+-----------------+------------------+------------------+-----------------+-----------------+------------------+------------------------+------------------+------------------+\n",
       "|  count|             2000|              2000|              2000|             2000|             2000|              2000|                    2000|              2000|              2000|\n",
       "|   mean|           3.7035|          121.1825|           69.1455|           20.935|           80.254|32.192999999999984|     0.47092999999999974|           33.0905|             0.342|\n",
       "| stddev|3.306063032730656|32.068635649902916|19.188314815604098|16.10324290992682|111.1805335457595| 8.149900701279762|      0.3235525586811429|11.786423106049496|0.4744982342297426|\n",
       "|    min|                0|                 0|                 0|                0|                0|               0.0|                   0.078|                21|                 0|\n",
       "|    max|               17|               199|               122|              110|              744|              80.6|                    2.42|                81|                 1|\n",
       "+-------+-----------------+------------------+------------------+-----------------+-----------------+------------------+------------------------+------------------+------------------+"
      ]
     },
     "execution_count": 13,
     "metadata": {},
     "output_type": "execute_result"
    }
   ],
   "source": [
    "#get the summary statistics\n",
    "df.describe()"
   ]
  },
  {
   "cell_type": "markdown",
   "metadata": {
    "colab_type": "text",
    "id": "gZerPOR-OyjQ"
   },
   "source": [
    "## Data Cleaning & Preparation"
   ]
  },
  {
   "cell_type": "code",
   "execution_count": 14,
   "metadata": {
    "colab": {},
    "colab_type": "code",
    "id": "Q-KkJvV_PFFU"
   },
   "outputs": [
    {
     "name": "stdout",
     "output_type": "stream",
     "text": [
      "Pregnancies: 0\n",
      "Glucose: 0\n",
      "BloodPressure: 0\n",
      "SkinThickness: 0\n",
      "Insulin: 0\n",
      "BMI: 0\n",
      "DiabetesPedigreeFunction: 0\n",
      "Age: 0\n",
      "Outcome: 0\n"
     ]
    }
   ],
   "source": [
    "#check for null values\n",
    "for col in df.columns:\n",
    "    print(col+\":\", df[df[col].isNull()].count())"
   ]
  },
  {
   "cell_type": "code",
   "execution_count": 17,
   "metadata": {
    "colab": {},
    "colab_type": "code",
    "id": "ZJsbgwZMPFQC"
   },
   "outputs": [],
   "source": [
    "#look for the unnecessary values present\n",
    "def count_zeroes():\n",
    "    columns_list = ['Glucose','BloodPressure','SkinThickness','Insulin','BMI']\n",
    "    for i in columns_list:\n",
    "        print(i+\":\",df[df[i]==0].count())\n",
    "    "
   ]
  },
  {
   "cell_type": "code",
   "execution_count": 18,
   "metadata": {
    "colab": {},
    "colab_type": "code",
    "id": "pcXTErb9PFbo"
   },
   "outputs": [
    {
     "name": "stdout",
     "output_type": "stream",
     "text": [
      "Glucose: 13\n",
      "BloodPressure: 90\n",
      "SkinThickness: 573\n",
      "Insulin: 956\n",
      "BMI: 28\n"
     ]
    }
   ],
   "source": [
    "count_zeroes()"
   ]
  },
  {
   "cell_type": "code",
   "execution_count": 22,
   "metadata": {
    "colab": {},
    "colab_type": "code",
    "id": "VXemdtaPPFmA"
   },
   "outputs": [
    {
     "name": "stdout",
     "output_type": "stream",
     "text": [
      "mean value for Glucose is 121.1825\n",
      "mean value for BloodPressure is 69.1455\n",
      "mean value for SkinThickness is 20.935\n",
      "mean value for Insulin is 80.254\n",
      "mean value for BMI is 32.192999999999984\n"
     ]
    }
   ],
   "source": [
    "#impute the zero values by the mean value\n",
    "from pyspark.sql.functions import *\n",
    "\n",
    "for i in df.columns[1:6]:\n",
    "    mean = df.agg({i:'mean'}).first()[0]\n",
    "    print(f'mean value for {i} is {float(mean)}')\n",
    "    \n",
    "    #imputation\n",
    "    df = df.withColumn(i, when(df[i]==0, int(mean)).otherwise(df[i]))"
   ]
  },
  {
   "cell_type": "code",
   "execution_count": 23,
   "metadata": {
    "colab": {},
    "colab_type": "code",
    "id": "C0bk0Ps_PFwk"
   },
   "outputs": [
    {
     "name": "stdout",
     "output_type": "stream",
     "text": [
      "+-----------+-------+-------------+-------------+-------+----+------------------------+---+-------+\n",
      "|Pregnancies|Glucose|BloodPressure|SkinThickness|Insulin| BMI|DiabetesPedigreeFunction|Age|Outcome|\n",
      "+-----------+-------+-------------+-------------+-------+----+------------------------+---+-------+\n",
      "|          2|    138|           62|           35|     80|33.6|                   0.127| 47|      1|\n",
      "|          0|     84|           82|           31|    125|38.2|                   0.233| 23|      0|\n",
      "|          0|    145|           69|           20|     80|44.2|                    0.63| 31|      1|\n",
      "|          0|    135|           68|           42|    250|42.3|                   0.365| 24|      1|\n",
      "|          1|    139|           62|           41|    480|40.7|                   0.536| 21|      0|\n",
      "|          0|    173|           78|           32|    265|46.5|                   1.159| 58|      0|\n",
      "|          4|     99|           72|           17|     80|25.6|                   0.294| 28|      0|\n",
      "|          8|    194|           80|           20|     80|26.1|                   0.551| 67|      0|\n",
      "|          2|     83|           65|           28|     66|36.8|                   0.629| 24|      0|\n",
      "|          2|     89|           90|           30|     80|33.5|                   0.292| 42|      0|\n",
      "+-----------+-------+-------------+-------------+-------+----+------------------------+---+-------+\n",
      "only showing top 10 rows\n",
      "\n"
     ]
    }
   ],
   "source": [
    "#display the dataframe \n",
    "df.show(10)"
   ]
  },
  {
   "cell_type": "markdown",
   "metadata": {
    "colab_type": "text",
    "id": "LOgSTdBpPs7G"
   },
   "source": [
    "## Correlation Analysis & Feature Selection"
   ]
  },
  {
   "cell_type": "code",
   "execution_count": 25,
   "metadata": {
    "colab": {},
    "colab_type": "code",
    "id": "7Eq6jdcFP_3C"
   },
   "outputs": [
    {
     "name": "stdout",
     "output_type": "stream",
     "text": [
      "Correlation to the outcome for Pregnancies is 0.22443699263363961\n",
      "Correlation to the outcome for Glucose is 0.48796646527321064\n",
      "Correlation to the outcome for BloodPressure is 0.17171333286446713\n",
      "Correlation to the outcome for SkinThickness is 0.1659010662889893\n",
      "Correlation to the outcome for Insulin is 0.1711763270226193\n",
      "Correlation to the outcome for BMI is 0.2827927569760082\n",
      "Correlation to the outcome for DiabetesPedigreeFunction is 0.1554590791569403\n",
      "Correlation to the outcome for Age is 0.23650924717620253\n",
      "Correlation to the outcome for Outcome is 1.0\n"
     ]
    }
   ],
   "source": [
    "#find the correlation among the set of input & output variables\n",
    "for i in df.columns:\n",
    "    print(f\"Correlation to the outcome for {i} is {df.stat.corr('Outcome',i)}\")"
   ]
  },
  {
   "cell_type": "code",
   "execution_count": 26,
   "metadata": {
    "colab": {},
    "colab_type": "code",
    "id": "Fl7Edj-OQACn"
   },
   "outputs": [],
   "source": [
    "#feature selection\n",
    "from pyspark.ml.feature import VectorAssembler\n",
    "assembler = VectorAssembler(inputCols=['Pregnancies','Glucose','BloodPressure','SkinThickness','Insulin','BMI','DiabetesPedigreeFunction','Age']\n",
    "                            ,outputCol='features')\n"
   ]
  },
  {
   "cell_type": "code",
   "execution_count": 27,
   "metadata": {},
   "outputs": [],
   "source": [
    "output_data = assembler.transform(df)"
   ]
  },
  {
   "cell_type": "code",
   "execution_count": 28,
   "metadata": {
    "colab": {},
    "colab_type": "code",
    "id": "FURl7qESQAaQ"
   },
   "outputs": [
    {
     "name": "stdout",
     "output_type": "stream",
     "text": [
      "+-----------+-------+-------------+-------------+-------+----+------------------------+---+-------+--------------------+\n",
      "|Pregnancies|Glucose|BloodPressure|SkinThickness|Insulin| BMI|DiabetesPedigreeFunction|Age|Outcome|            features|\n",
      "+-----------+-------+-------------+-------------+-------+----+------------------------+---+-------+--------------------+\n",
      "|          2|    138|           62|           35|     80|33.6|                   0.127| 47|      1|[2.0,138.0,62.0,3...|\n",
      "|          0|     84|           82|           31|    125|38.2|                   0.233| 23|      0|[0.0,84.0,82.0,31...|\n",
      "|          0|    145|           69|           20|     80|44.2|                    0.63| 31|      1|[0.0,145.0,69.0,2...|\n",
      "|          0|    135|           68|           42|    250|42.3|                   0.365| 24|      1|[0.0,135.0,68.0,4...|\n",
      "|          1|    139|           62|           41|    480|40.7|                   0.536| 21|      0|[1.0,139.0,62.0,4...|\n",
      "|          0|    173|           78|           32|    265|46.5|                   1.159| 58|      0|[0.0,173.0,78.0,3...|\n",
      "|          4|     99|           72|           17|     80|25.6|                   0.294| 28|      0|[4.0,99.0,72.0,17...|\n",
      "|          8|    194|           80|           20|     80|26.1|                   0.551| 67|      0|[8.0,194.0,80.0,2...|\n",
      "|          2|     83|           65|           28|     66|36.8|                   0.629| 24|      0|[2.0,83.0,65.0,28...|\n",
      "|          2|     89|           90|           30|     80|33.5|                   0.292| 42|      0|[2.0,89.0,90.0,30...|\n",
      "+-----------+-------+-------------+-------------+-------+----+------------------------+---+-------+--------------------+\n",
      "only showing top 10 rows\n",
      "\n"
     ]
    }
   ],
   "source": [
    "#display dataframe\n",
    "output_data.show(10)"
   ]
  },
  {
   "cell_type": "code",
   "execution_count": 29,
   "metadata": {
    "colab": {},
    "colab_type": "code",
    "id": "mJKrfqdaQAOy"
   },
   "outputs": [
    {
     "name": "stdout",
     "output_type": "stream",
     "text": [
      "root\n",
      " |-- Pregnancies: integer (nullable = true)\n",
      " |-- Glucose: integer (nullable = true)\n",
      " |-- BloodPressure: integer (nullable = true)\n",
      " |-- SkinThickness: integer (nullable = true)\n",
      " |-- Insulin: integer (nullable = true)\n",
      " |-- BMI: double (nullable = true)\n",
      " |-- DiabetesPedigreeFunction: double (nullable = true)\n",
      " |-- Age: integer (nullable = true)\n",
      " |-- Outcome: integer (nullable = true)\n",
      " |-- features: vector (nullable = true)\n",
      "\n"
     ]
    }
   ],
   "source": [
    "#print the schema\n",
    "output_data.printSchema()"
   ]
  },
  {
   "cell_type": "markdown",
   "metadata": {
    "colab_type": "text",
    "id": "8fSjOdfyQA99"
   },
   "source": [
    "## Splitting Dataset & Building the Model"
   ]
  },
  {
   "cell_type": "code",
   "execution_count": 30,
   "metadata": {
    "colab": {},
    "colab_type": "code",
    "id": "F89--FiVQQJn"
   },
   "outputs": [],
   "source": [
    "#create final data\n",
    "from pyspark.ml.classification import LogisticRegression\n",
    "final_data = output_data.select('Outcome','features')"
   ]
  },
  {
   "cell_type": "code",
   "execution_count": 32,
   "metadata": {
    "colab": {},
    "colab_type": "code",
    "id": "cKpm5912Qji_"
   },
   "outputs": [
    {
     "name": "stdout",
     "output_type": "stream",
     "text": [
      "root\n",
      " |-- Outcome: integer (nullable = true)\n",
      " |-- features: vector (nullable = true)\n",
      "\n"
     ]
    }
   ],
   "source": [
    "#print schema of final data\n",
    "final_data.printSchema()"
   ]
  },
  {
   "cell_type": "code",
   "execution_count": 34,
   "metadata": {
    "colab": {},
    "colab_type": "code",
    "id": "r_Nom7aZQjuN"
   },
   "outputs": [],
   "source": [
    "#split the dataset\n",
    "train, test = final_data.randomSplit([0.7,0.3])"
   ]
  },
  {
   "cell_type": "code",
   "execution_count": 35,
   "metadata": {},
   "outputs": [],
   "source": [
    "#build the model\n",
    "model = LogisticRegression(labelCol='Outcome').fit(train)"
   ]
  },
  {
   "cell_type": "code",
   "execution_count": 36,
   "metadata": {
    "colab": {},
    "colab_type": "code",
    "id": "OljO2HcIQj7E"
   },
   "outputs": [],
   "source": [
    "#summary of the model\n",
    "summary = model.summary"
   ]
  },
  {
   "cell_type": "code",
   "execution_count": 37,
   "metadata": {
    "colab": {},
    "colab_type": "code",
    "id": "mhwAr2d_QkFx"
   },
   "outputs": [
    {
     "data": {
      "text/html": [
       "<table border='1'>\n",
       "<tr><th>summary</th><th>Outcome</th><th>prediction</th></tr>\n",
       "<tr><td>count</td><td>1415</td><td>1415</td></tr>\n",
       "<tr><td>mean</td><td>0.3469964664310954</td><td>0.27703180212014133</td></tr>\n",
       "<tr><td>stddev</td><td>0.47618291252699946</td><td>0.4476905484092893</td></tr>\n",
       "<tr><td>min</td><td>0.0</td><td>0.0</td></tr>\n",
       "<tr><td>max</td><td>1.0</td><td>1.0</td></tr>\n",
       "</table>\n"
      ],
      "text/plain": [
       "+-------+-------------------+-------------------+\n",
       "|summary|            Outcome|         prediction|\n",
       "+-------+-------------------+-------------------+\n",
       "|  count|               1415|               1415|\n",
       "|   mean| 0.3469964664310954|0.27703180212014133|\n",
       "| stddev|0.47618291252699946| 0.4476905484092893|\n",
       "|    min|                0.0|                0.0|\n",
       "|    max|                1.0|                1.0|\n",
       "+-------+-------------------+-------------------+"
      ]
     },
     "execution_count": 37,
     "metadata": {},
     "output_type": "execute_result"
    }
   ],
   "source": [
    "summary.predictions.describe()"
   ]
  },
  {
   "cell_type": "code",
   "execution_count": 39,
   "metadata": {},
   "outputs": [
    {
     "name": "stdout",
     "output_type": "stream",
     "text": [
      "+-------+--------------------+--------------------+--------------------+----------+\n",
      "|Outcome|            features|       rawPrediction|         probability|prediction|\n",
      "+-------+--------------------+--------------------+--------------------+----------+\n",
      "|    0.0|[0.0,67.0,76.0,20...|[2.19680167434635...|[0.89996193229190...|       0.0|\n",
      "|    0.0|[0.0,67.0,76.0,20...|[2.19680167434635...|[0.89996193229190...|       0.0|\n",
      "|    0.0|[0.0,73.0,69.0,20...|[4.06019499217821...|[0.98304671451051...|       0.0|\n",
      "|    0.0|[0.0,74.0,52.0,10...|[3.56172547534394...|[0.97239393406115...|       0.0|\n",
      "|    0.0|[0.0,74.0,52.0,10...|[3.56172547534394...|[0.97239393406115...|       0.0|\n",
      "|    0.0|[0.0,78.0,88.0,29...|[2.41484992259258...|[0.91795269763392...|       0.0|\n",
      "|    0.0|[0.0,84.0,64.0,22...|[2.39725330567857...|[0.91661761439255...|       0.0|\n",
      "|    0.0|[0.0,84.0,64.0,22...|[2.39725330567857...|[0.91661761439255...|       0.0|\n",
      "|    0.0|[0.0,84.0,82.0,31...|[2.35324281764007...|[0.91319163905189...|       0.0|\n",
      "|    0.0|[0.0,84.0,82.0,31...|[2.35324281764007...|[0.91319163905189...|       0.0|\n",
      "+-------+--------------------+--------------------+--------------------+----------+\n",
      "only showing top 10 rows\n",
      "\n"
     ]
    }
   ],
   "source": [
    "summary.predictions.show(10)"
   ]
  },
  {
   "cell_type": "code",
   "execution_count": 41,
   "metadata": {},
   "outputs": [
    {
     "data": {
      "text/plain": [
       "0.8412463300447003"
      ]
     },
     "execution_count": 41,
     "metadata": {},
     "output_type": "execute_result"
    }
   ],
   "source": [
    "summary.areaUnderROC"
   ]
  },
  {
   "cell_type": "code",
   "execution_count": 42,
   "metadata": {},
   "outputs": [
    {
     "data": {
      "text/plain": [
       "0.768904593639576"
      ]
     },
     "execution_count": 42,
     "metadata": {},
     "output_type": "execute_result"
    }
   ],
   "source": [
    "summary.accuracy"
   ]
  },
  {
   "cell_type": "markdown",
   "metadata": {
    "colab_type": "text",
    "id": "DfaD_vzfQkah"
   },
   "source": [
    "## Evaluating and Saving the Model"
   ]
  },
  {
   "cell_type": "code",
   "execution_count": 50,
   "metadata": {
    "colab": {},
    "colab_type": "code",
    "id": "CHC5Erq7Q4QN"
   },
   "outputs": [],
   "source": [
    "from pyspark.ml.evaluation import BinaryClassificationEvaluator\n",
    "predictions = model.evaluate(test)"
   ]
  },
  {
   "cell_type": "code",
   "execution_count": 52,
   "metadata": {
    "colab": {},
    "colab_type": "code",
    "id": "UBltVqoNQ4cM"
   },
   "outputs": [
    {
     "name": "stdout",
     "output_type": "stream",
     "text": [
      "+-------+--------------------+--------------------+--------------------+----------+\n",
      "|Outcome|            features|       rawPrediction|         probability|prediction|\n",
      "+-------+--------------------+--------------------+--------------------+----------+\n",
      "|      0|[0.0,57.0,60.0,20...|[4.14482131532745...|[0.98440092000597...|       0.0|\n",
      "|      0|[0.0,57.0,60.0,20...|[4.14482131532745...|[0.98440092000597...|       0.0|\n",
      "|      0|[0.0,73.0,69.0,20...|[4.06019499217821...|[0.98304671451051...|       0.0|\n",
      "|      0|[0.0,74.0,52.0,10...|[3.56172547534394...|[0.97239393406115...|       0.0|\n",
      "|      0|[0.0,78.0,88.0,29...|[2.41484992259258...|[0.91795269763392...|       0.0|\n",
      "|      0|[0.0,84.0,64.0,22...|[2.39725330567857...|[0.91661761439255...|       0.0|\n",
      "|      0|[0.0,84.0,82.0,31...|[2.35324281764007...|[0.91319163905189...|       0.0|\n",
      "|      0|[0.0,84.0,82.0,31...|[2.35324281764007...|[0.91319163905189...|       0.0|\n",
      "|      0|[0.0,91.0,68.0,32...|[2.07394264547954...|[0.88834462551579...|       0.0|\n",
      "|      0|[0.0,91.0,80.0,20...|[2.24722913503398...|[0.90441125785237...|       0.0|\n",
      "+-------+--------------------+--------------------+--------------------+----------+\n",
      "only showing top 10 rows\n",
      "\n"
     ]
    }
   ],
   "source": [
    "predictions.predictions.show(10)"
   ]
  },
  {
   "cell_type": "code",
   "execution_count": 62,
   "metadata": {
    "colab": {},
    "colab_type": "code",
    "id": "A4BHCxCiQ4l-"
   },
   "outputs": [],
   "source": [
    "evaluator = BinaryClassificationEvaluator(rawPredictionCol='rawPrediction',labelCol= 'Outcome')"
   ]
  },
  {
   "cell_type": "code",
   "execution_count": 63,
   "metadata": {},
   "outputs": [
    {
     "name": "stdout",
     "output_type": "stream",
     "text": [
      "labelCol: label column name. (default: label, current: Outcome)\n",
      "metricName: metric name in evaluation (areaUnderROC|areaUnderPR) (default: areaUnderROC)\n",
      "numBins: Number of bins to down-sample the curves (ROC curve, PR curve) in area computation. If 0, no down-sampling will occur. Must be >= 0. (default: 1000)\n",
      "rawPredictionCol: raw prediction (a.k.a. confidence) column name. (default: rawPrediction, current: rawPrediction)\n",
      "weightCol: weight column name. If this is not set or empty, we treat all instance weights as 1.0. (undefined)\n"
     ]
    }
   ],
   "source": [
    "print(evaluator.explainParams())"
   ]
  },
  {
   "cell_type": "code",
   "execution_count": 78,
   "metadata": {},
   "outputs": [
    {
     "name": "stdout",
     "output_type": "stream",
     "text": [
      "Area Under ROC: 0.8371576609918576\n"
     ]
    }
   ],
   "source": [
    "print(f\"Area Under ROC: {evaluator.evaluate(model.transform(test))}\")"
   ]
  },
  {
   "cell_type": "code",
   "execution_count": 67,
   "metadata": {
    "colab": {},
    "colab_type": "code",
    "id": "ERpRUFOHQ4x5"
   },
   "outputs": [],
   "source": [
    "# save model\n",
    "# model.save(\"model\")"
   ]
  },
  {
   "cell_type": "code",
   "execution_count": 68,
   "metadata": {
    "colab": {},
    "colab_type": "code",
    "id": "4zSA9_KCQ47W"
   },
   "outputs": [],
   "source": [
    "# load saved model back to the environment\n",
    "# from pyspark.ml.classification import LogisticRegressionModel\n",
    "# model = LogisticRegressionModel.load(\"model\")"
   ]
  },
  {
   "cell_type": "markdown",
   "metadata": {
    "colab_type": "text",
    "id": "Iznukr-xRANo"
   },
   "source": [
    "## Prediction on new data with the trained model"
   ]
  },
  {
   "cell_type": "code",
   "execution_count": 70,
   "metadata": {
    "colab": {},
    "colab_type": "code",
    "id": "MBq2hq27RdHB"
   },
   "outputs": [],
   "source": [
    "#create a new spark dataframe\n",
    "path2 = r\"C:\\Users\\calvi\\Documents\\Portfolio Projects\\diabetes_dataset\\new_test.csv\"\n",
    "test_df = spark.read.csv(path, header=True,inferSchema=True)"
   ]
  },
  {
   "cell_type": "code",
   "execution_count": 71,
   "metadata": {
    "colab": {},
    "colab_type": "code",
    "id": "co8K0NZsRdQB"
   },
   "outputs": [
    {
     "name": "stdout",
     "output_type": "stream",
     "text": [
      "root\n",
      " |-- Pregnancies: integer (nullable = true)\n",
      " |-- Glucose: integer (nullable = true)\n",
      " |-- BloodPressure: integer (nullable = true)\n",
      " |-- SkinThickness: integer (nullable = true)\n",
      " |-- Insulin: integer (nullable = true)\n",
      " |-- BMI: double (nullable = true)\n",
      " |-- DiabetesPedigreeFunction: double (nullable = true)\n",
      " |-- Age: integer (nullable = true)\n",
      " |-- Outcome: integer (nullable = true)\n",
      "\n"
     ]
    }
   ],
   "source": [
    "#print the schema\n",
    "test_df.printSchema()"
   ]
  },
  {
   "cell_type": "code",
   "execution_count": 72,
   "metadata": {
    "colab": {},
    "colab_type": "code",
    "id": "J7jtGf4lRdaz"
   },
   "outputs": [],
   "source": [
    "#create an additional feature merged column \n",
    "test_data = assembler.transform(test_df)"
   ]
  },
  {
   "cell_type": "code",
   "execution_count": 73,
   "metadata": {
    "colab": {},
    "colab_type": "code",
    "id": "kd1glzOnRdkq"
   },
   "outputs": [
    {
     "name": "stdout",
     "output_type": "stream",
     "text": [
      "root\n",
      " |-- Pregnancies: integer (nullable = true)\n",
      " |-- Glucose: integer (nullable = true)\n",
      " |-- BloodPressure: integer (nullable = true)\n",
      " |-- SkinThickness: integer (nullable = true)\n",
      " |-- Insulin: integer (nullable = true)\n",
      " |-- BMI: double (nullable = true)\n",
      " |-- DiabetesPedigreeFunction: double (nullable = true)\n",
      " |-- Age: integer (nullable = true)\n",
      " |-- Outcome: integer (nullable = true)\n",
      " |-- features: vector (nullable = true)\n",
      "\n"
     ]
    }
   ],
   "source": [
    "#print the schema\n",
    "test_data.printSchema()"
   ]
  },
  {
   "cell_type": "code",
   "execution_count": 74,
   "metadata": {
    "colab": {},
    "colab_type": "code",
    "id": "40Dck7K_Rdxh"
   },
   "outputs": [
    {
     "name": "stdout",
     "output_type": "stream",
     "text": [
      "root\n",
      " |-- Pregnancies: integer (nullable = true)\n",
      " |-- Glucose: integer (nullable = true)\n",
      " |-- BloodPressure: integer (nullable = true)\n",
      " |-- SkinThickness: integer (nullable = true)\n",
      " |-- Insulin: integer (nullable = true)\n",
      " |-- BMI: double (nullable = true)\n",
      " |-- DiabetesPedigreeFunction: double (nullable = true)\n",
      " |-- Age: integer (nullable = true)\n",
      " |-- Outcome: integer (nullable = true)\n",
      " |-- features: vector (nullable = true)\n",
      " |-- rawPrediction: vector (nullable = true)\n",
      " |-- probability: vector (nullable = true)\n",
      " |-- prediction: double (nullable = false)\n",
      "\n"
     ]
    }
   ],
   "source": [
    "#use model to make predictions\n",
    "results = model.transform(test_data)\n",
    "results.printSchema()"
   ]
  },
  {
   "cell_type": "code",
   "execution_count": 79,
   "metadata": {
    "colab": {},
    "colab_type": "code",
    "id": "AHpfS2SjRd7s"
   },
   "outputs": [
    {
     "name": "stdout",
     "output_type": "stream",
     "text": [
      "+--------------------+----------+\n",
      "|            features|prediction|\n",
      "+--------------------+----------+\n",
      "|[2.0,138.0,62.0,3...|       0.0|\n",
      "|[0.0,84.0,82.0,31...|       0.0|\n",
      "|(8,[1,5,6,7],[145...|       1.0|\n",
      "|[0.0,135.0,68.0,4...|       0.0|\n",
      "|[1.0,139.0,62.0,4...|       0.0|\n",
      "|[0.0,173.0,78.0,3...|       1.0|\n",
      "|[4.0,99.0,72.0,17...|       0.0|\n",
      "|[8.0,194.0,80.0,0...|       1.0|\n",
      "|[2.0,83.0,65.0,28...|       0.0|\n",
      "|[2.0,89.0,90.0,30...|       0.0|\n",
      "+--------------------+----------+\n",
      "only showing top 10 rows\n",
      "\n"
     ]
    }
   ],
   "source": [
    "#display the predictions\n",
    "results.select('features','prediction').show(10)"
   ]
  },
  {
   "cell_type": "code",
   "execution_count": 77,
   "metadata": {},
   "outputs": [
    {
     "name": "stdout",
     "output_type": "stream",
     "text": [
      "Area Under ROC for new dataset: 0.8295528271032212\n"
     ]
    }
   ],
   "source": [
    "print(f\"Area Under ROC for new dataset: {evaluator.evaluate(model.transform(test_data))}\")"
   ]
  },
  {
   "cell_type": "code",
   "execution_count": null,
   "metadata": {},
   "outputs": [],
   "source": []
  }
 ],
 "metadata": {
  "colab": {
   "name": "Diabetes_Prediction.ipynb",
   "provenance": []
  },
  "kernelspec": {
   "display_name": "Python 3 (ipykernel)",
   "language": "python",
   "name": "python3"
  },
  "language_info": {
   "codemirror_mode": {
    "name": "ipython",
    "version": 3
   },
   "file_extension": ".py",
   "mimetype": "text/x-python",
   "name": "python",
   "nbconvert_exporter": "python",
   "pygments_lexer": "ipython3",
   "version": "3.9.7"
  }
 },
 "nbformat": 4,
 "nbformat_minor": 1
}
